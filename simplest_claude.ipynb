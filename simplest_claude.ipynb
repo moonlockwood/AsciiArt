{
 "cells": [
  {
   "cell_type": "code",
   "execution_count": 3,
   "metadata": {},
   "outputs": [],
   "source": [
    "from anthropic import Anthropic"
   ]
  },
  {
   "cell_type": "code",
   "execution_count": 347,
   "metadata": {},
   "outputs": [],
   "source": [
    "with open('key.cfg', 'r') as f:\n",
    "    key = f.read()"
   ]
  },
  {
   "cell_type": "code",
   "execution_count": 4,
   "metadata": {},
   "outputs": [],
   "source": [
    "client = Anthropic()\n",
    "client.api_key = key\n",
    "model = \"claude-3-opus-20240229\""
   ]
  },
  {
   "cell_type": "code",
   "execution_count": 361,
   "metadata": {},
   "outputs": [
    {
     "name": "stdout",
     "output_type": "stream",
     "text": [
      "Here are 6 different ASCII art styles for the word \"Amazing\":\n",
      "\n",
      "Style 1:\n",
      "  ___  ___  ___   ___   ____  ____  ____   ____ \n",
      " / _ \\ |  \\/  |  / _ \\ |_  / |_  _||  _ \\ / ___|\n",
      "/ /_\\ \\| |\\/| | / /_\\ \\ / /   | |  | | | || |  _ \n",
      "|  _  || |  | | |  _  |/ /    | |  | |_| || |_| |\n",
      "|_| |_||_|  |_| |_| |_|/_/    |_|  |____/ \\____|\n",
      "\n",
      "Style 2:\n",
      "    _                       _             \n",
      "   / \\   _ __ ___   __ _ __(_)_ __   __ _ \n",
      "  / _ \\ | '_ ` _ \\ / _` |_  / | '_ \\ / _` |\n",
      " / ___ \\| | | | | | (_| |/ /| | | | | (_| |\n",
      "/_/   \\_\\_| |_| |_|\\__,_/___|_|_| |_|\\__, |\n",
      "                                     |___/ \n",
      "\n",
      "Style 3:\n",
      " ________  _____ ______   ________  ________  ___  ________   ________      \n",
      "|\\   __  \\|\\   _ \\  _   \\|\\   __  \\|\\_____  \\|\\  \\|\\   ___  \\|\\   ____\\     \n",
      "\\ \\  \\|\\  \\ \\  \\\\\\__\\ \\  \\ \\  \\|\\  \\|____|\\  \\ \\  \\ \\  \\\\ \\  \\ \\  \\___|_    \n",
      " \\ \\   __  \\ \\  \\\\|__| \\  \\ \\   __  \\    \\|\\  \\ \\  \\ \\  \\\\ \\  \\ \\_____  \\   \n",
      "  \\ \\  \\ \\  \\ \\  \\    \\ \\  \\ \\  \\ \\  \\  __\\_\\  \\ \\  \\ \\  \\\\ \\  \\|____|\\  \\  \n",
      "   \\ \\__\\ \\__\\ \\__\\    \\ \\__\\ \\__\\ \\__\\|\\_______\\ \\__\\ \\__\\\\ \\__\\____\\_\\  \\ \n",
      "    \\|__|\\|__|\\|__|     \\|__|\\|__|\\|__|\\|_______|\\|__|\\|__| \\|__|\\_________\\\n",
      "                                                                \\|_________|\n",
      "\n",
      "Style 4:\n",
      "   _   _   _   _   _   _   _   _ \n",
      "  / \\ / \\ / \\ / \\ / \\ / \\ / \\ / \\\n",
      " ( A | M | A | Z | I | N | G ) |\n",
      "  \\_/ \\_/ \\_/ \\_/ \\_/ \\_/ \\_/ \\_/\n",
      "\n",
      "Style 5:\n",
      ".------..------..------..------..------..------..------..------.\n",
      "|A.--. ||M.--. ||A.--. ||Z.--. ||I.--. ||N.--. ||G.--. ||?.--. |\n",
      "| (\\/) || (\\/) || (\\/) || :(): || (\\/) || :(): || :/\\: || (\\/) |\n",
      "| :\\/: || :\\/: || :\\/: || ()() || :\\/: || ()() || :\\/: || :\\/: |\n",
      "| '--'A|| '--'M|| '--'A|| '--'Z|| '--'I|| '--'N|| '--'G|| '--'?|\n",
      "`------'`------'`------'`------'`------'`------'`------'`------'\n",
      "\n",
      "Style 6:\n",
      " ▄▄▄      ███▄ ▄███▓ ▄▄▄      ▒███████▒██▓ ███▄    █   ▄████ \n",
      "▒████▄   ▓██▒▀█▀ ██▒▒████▄    ▒ ▒ ▒ ▄▀░▓██▒ ██ ▀█   █  ██▒ ▀█▒\n",
      "▒██  ▀█▄ ▓██    ▓██░▒██  ▀█▄  ░ ▒ ▄▀▒░ ▒██▒▓██  ▀█ ██▒▒██░▄▄▄░\n",
      "░██▄▄▄▄██▒██    ▒██ ░██▄▄▄▄██   ▄▀▒   ░░██░▓██▒  ▐▌██▒░▓█  ██▓\n",
      " ▓█   ▓██▒██▒   ░██▒ ▓█   ▓██▒▒███████▒░██░▒██░   ▓██░░▒▓███▀▒\n",
      " ▒▒   ▓▒█░ ▒░   ░  ░ ▒▒   ▓▒█░░▒▒ ▓░▒░▒░▓  ░ ▒░   ▒ ▒  ░▒   ▒ \n",
      "  ▒   ▒▒ ░  ░      ░  ▒   ▒▒ ░░░▒ ▒ ░ ▒ ▒ ░░ ░░   ░ ▒░  ░   ░ \n",
      "  ░   ▒  ░      ░     ░   ▒   ░ ░ ░ ░ ░ ▒ ░   ░   ░ ░ ░ ░   ░ \n",
      "      ░         ░         ░  ░  ░ ░     ░           ░       ░ \n",
      "                                ░                              \n",
      "\n",
      "I hope you find these ASCII art styles amazing! Let me know if you need anything else."
     ]
    }
   ],
   "source": [
    "system_message = \"Your only role is to create ASCII art.\"\n",
    "\n",
    "message = \"Spell out the word 'Amazing' in 6 different styles.\"\n",
    "\n",
    "message = {\"role\": \"user\", \"content\": message}\n",
    "\n",
    "with client.messages.stream(\n",
    "    max_tokens=3096,\n",
    "    temperature=0.86,\n",
    "    system=system_message,\n",
    "    messages=[message],\n",
    "    model=model,\n",
    ") as stream: \n",
    "    for text in stream.text_stream:\n",
    "        print(text, end='')"
   ]
  }
 ],
 "metadata": {
  "kernelspec": {
   "display_name": "base",
   "language": "python",
   "name": "python3"
  },
  "language_info": {
   "codemirror_mode": {
    "name": "ipython",
    "version": 3
   },
   "file_extension": ".py",
   "mimetype": "text/x-python",
   "name": "python",
   "nbconvert_exporter": "python",
   "pygments_lexer": "ipython3",
   "version": "3.11.4"
  }
 },
 "nbformat": 4,
 "nbformat_minor": 2
}
